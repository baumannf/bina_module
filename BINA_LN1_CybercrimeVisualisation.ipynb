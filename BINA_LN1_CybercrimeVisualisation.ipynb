{
  "nbformat": 4,
  "nbformat_minor": 0,
  "metadata": {
    "colab": {
      "provenance": [],
      "authorship_tag": "ABX9TyMZVTi5i2PIWAnpk8PdJgMA",
      "include_colab_link": true
    },
    "kernelspec": {
      "name": "python3",
      "display_name": "Python 3"
    },
    "language_info": {
      "name": "python"
    }
  },
  "cells": [
    {
      "cell_type": "markdown",
      "metadata": {
        "id": "view-in-github",
        "colab_type": "text"
      },
      "source": [
        "<a href=\"https://colab.research.google.com/github/baumannf/bina_module/blob/main/BINA_LN1_CybercrimeVisualisation.ipynb\" target=\"_parent\"><img src=\"https://colab.research.google.com/assets/colab-badge.svg\" alt=\"Open In Colab\"/></a>"
      ]
    },
    {
      "cell_type": "markdown",
      "source": [
        "# Datenanalyse & Visualisierung der Cyberkriminalität im DACH - Raum mit Fokus Sensibilisierung der schweizer Bevölkerung\n",
        "\n",
        "In diesem Jupyter Notebook werden die zuvor aufbereiteten Datensätze ausgewertet und entsprechend visualisiert."
      ],
      "metadata": {
        "id": "6sfwko-nW-vD"
      }
    },
    {
      "cell_type": "markdown",
      "source": [
        "## Import der Daten\n",
        "\n",
        "In diesem Schritt werden die 'aufbereiteten' csv-Files aus dem Jupyter Notebook 'BINA_LN1_CybercrimeAnalytics.ipynb' importiert. Diese Datenquellen werden dann ausgewertet, analysiert und entsprechend visualisiert."
      ],
      "metadata": {
        "id": "fzcsUno3a14B"
      }
    },
    {
      "cell_type": "markdown",
      "source": [
        "### Import Masterdaten 'Cyberdelikte - DACH'\n",
        "\n",
        "In diesem Abschnitt werden die folgenden Masterfiles für die weitere Verwendung im Rahmen der Projektarbeit importiert aus dem  aus dem [GitHub Repository](https://github.com/baumannf/bina_module):\n",
        "\n",
        "- 'Cyberdelikt - DACH'\n",
        "- 'Cyberdelikte - DCH - Täter'\n",
        "- 'Sicherheit Internet - CH'"
      ],
      "metadata": {
        "id": "ddEAVYoabO0p"
      }
    },
    {
      "cell_type": "code",
      "execution_count": null,
      "metadata": {
        "id": "wFDij5FOWpJl"
      },
      "outputs": [],
      "source": [
        "# Define variables for the master file paths\n",
        "data_cyber_dach = 'https://github.com/baumannf/bina_module/blob/main/data/master/Cyberdelikte_DACH.csv'\n",
        "data_cyber_dch_taeter = 'https://github.com/baumannf/bina_module/blob/main/data/master/Cyberdelikte_DCH_Taeter.csv'\n",
        "data_internet-sec_ch = 'https://github.com/baumannf/bina_module/blob/main/data/master/Sicherheit-Internet_CH.csv'"
      ]
    }
  ]
}